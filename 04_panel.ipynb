{
 "cells": [
  {
   "cell_type": "code",
   "execution_count": null,
   "metadata": {
    "scrolled": false,
    "slideshow": {
     "slide_type": "skip"
    }
   },
   "outputs": [],
   "source": [
    "import os\n",
    "import intake\n",
    "import pandas as pd\n",
    "import xarray as xr\n",
    "\n",
    "df = intake.open_csv('./data/bird_migration/{species}.csv').read()\n",
    "\n",
    "def fill_day(v):\n",
    "    next_year = v.assign(day=v.day + v.day.max())\n",
    "    last_year = v.assign(day=v.day - v.day.max())\n",
    "    surrounding_years = pd.concat([last_year, v, next_year])\n",
    "    filled = surrounding_years.assign(\n",
    "        lat=surrounding_years.lat.interpolate(), \n",
    "        lon=surrounding_years.lon.interpolate())\n",
    "    this_year = filled[filled.day.isin(v.day)]\n",
    "    return this_year\n",
    "\n",
    "df = pd.concat([fill_day(v) for k, v in df.groupby('species')])\n",
    "\n",
    "colors = pd.read_csv('./assets/colormap.csv', header=None, names=['R', 'G', 'B'])\n",
    "species_cmap = dict(zip(df.species.cat.categories, \n",
    "                        ['#{row.R:02x}{row.G:02x}{row.B:02x}'.format(row=row) \n",
    "                         for _, row in colors.iterrows()]))\n",
    "\n",
    "data_url = 'http://www.esrl.noaa.gov/psd/thredds/dodsC/Datasets/ncep/air.day.ltm.nc'\n",
    "\n",
    "# I downloaded the file locally because I was hitting rate limits.\n",
    "local_file = './data/air.day.ltm.nc'\n",
    "if os.path.isfile(local_file):\n",
    "    data_url = local_file\n",
    "\n",
    "ds = xr.open_dataset(data_url)\n",
    "ds = ds.rename(time='day').sel(level=1000)\n",
    "ds['day'] = list(range(1,366))\n",
    "\n",
    "## convert to F\n",
    "ds = ds.assign(air_F = (ds['air'] - 273.15) * 9/5 + 32)"
   ]
  },
  {
   "cell_type": "markdown",
   "metadata": {
    "slideshow": {
     "slide_type": "slide"
    }
   },
   "source": [
    "## Panel \n",
    "\n",
    "Panel provides the framework and interactivity to make dashboards that work in the notebook and can be deployed as standalone apps. Just to remind ourselves - we have our target dashboard."
   ]
  },
  {
   "cell_type": "markdown",
   "metadata": {
    "slideshow": {
     "slide_type": "subslide"
    }
   },
   "source": [
    "<img src=\"./assets/target_dashboard.jpg\" width=40%></img>"
   ]
  },
  {
   "cell_type": "code",
   "execution_count": null,
   "metadata": {
    "scrolled": false,
    "slideshow": {
     "slide_type": "subslide"
    }
   },
   "outputs": [],
   "source": [
    "import numpy as np\n",
    "\n",
    "import hvplot.pandas\n",
    "import hvplot.xarray\n",
    "\n",
    "import holoviews as hv\n",
    "import geoviews as gv\n",
    "import geoviews.tile_sources as gts\n",
    "import cartopy.crs as ccrs\n",
    "\n",
    "from holoviews.streams import Selection1D, Params\n",
    "import panel as pn\n",
    "\n",
    "hv.extension('bokeh', width=90)\n",
    "pn.extension()"
   ]
  },
  {
   "cell_type": "markdown",
   "metadata": {
    "slideshow": {
     "slide_type": "slide"
    }
   },
   "source": [
    "### Make some widgets\n",
    "\n",
    "One of the things that panel provides is an easy way to instantiate widgets that work both inside and outside the notebook. We'll set up a `Player` widget, a `MultiSelect` widget, and a `Toggle`."
   ]
  },
  {
   "cell_type": "code",
   "execution_count": null,
   "metadata": {
    "scrolled": false,
    "slideshow": {
     "slide_type": "subslide"
    }
   },
   "outputs": [],
   "source": [
    "species = pn.widgets.MultiSelect(options=df.species.cat.categories.tolist(), size=10)\n",
    "species"
   ]
  },
  {
   "cell_type": "markdown",
   "metadata": {
    "slideshow": {
     "slide_type": "fragment"
    }
   },
   "source": [
    "Select an item from the list above or shift + click or cmd/ctrl + click to select multiple species"
   ]
  },
  {
   "cell_type": "code",
   "execution_count": null,
   "metadata": {
    "scrolled": true,
    "slideshow": {
     "slide_type": "fragment"
    }
   },
   "outputs": [],
   "source": [
    "species.value"
   ]
  },
  {
   "cell_type": "code",
   "execution_count": null,
   "metadata": {
    "scrolled": false,
    "slideshow": {
     "slide_type": "subslide"
    }
   },
   "outputs": [],
   "source": [
    "day = pn.widgets.Player(value=1, start=1, end=365, loop_policy='loop', name='day', width=350, step=5)\n",
    "day"
   ]
  },
  {
   "cell_type": "code",
   "execution_count": null,
   "metadata": {
    "scrolled": false,
    "slideshow": {
     "slide_type": "fragment"
    }
   },
   "outputs": [],
   "source": [
    "day.value"
   ]
  },
  {
   "cell_type": "code",
   "execution_count": null,
   "metadata": {
    "scrolled": false,
    "slideshow": {
     "slide_type": "subslide"
    }
   },
   "outputs": [],
   "source": [
    "toggle = pn.widgets.Toggle(name='Air Temperature Layer', active=True)\n",
    "toggle"
   ]
  },
  {
   "cell_type": "code",
   "execution_count": null,
   "metadata": {
    "scrolled": false,
    "slideshow": {
     "slide_type": "fragment"
    }
   },
   "outputs": [],
   "source": [
    "toggle.active"
   ]
  },
  {
   "cell_type": "markdown",
   "metadata": {
    "slideshow": {
     "slide_type": "subslide"
    }
   },
   "source": [
    "Now we can capture the streams from these widgets so we can use them in our dynamic maps. "
   ]
  },
  {
   "cell_type": "code",
   "execution_count": null,
   "metadata": {
    "scrolled": false,
    "slideshow": {
     "slide_type": "fragment"
    }
   },
   "outputs": [],
   "source": [
    "species_stream = Params(species, ['value'], rename={'value': 'species'})\n",
    "day_stream = Params(day, ['value'], rename={'value': 'day'})\n",
    "toggle_stream = Params(toggle, ['active'])"
   ]
  },
  {
   "cell_type": "code",
   "execution_count": null,
   "metadata": {
    "scrolled": false,
    "slideshow": {
     "slide_type": "fragment"
    }
   },
   "outputs": [],
   "source": [
    "def sanity_checker(species):\n",
    "    return hv.Text(0.5, 0.5, '\\n'.join(species))\n",
    "\n",
    "hv.util.DynamicMap(sanity_checker, streams=[species_stream])"
   ]
  },
  {
   "cell_type": "code",
   "execution_count": null,
   "metadata": {
    "scrolled": false,
    "slideshow": {
     "slide_type": "fragment"
    }
   },
   "outputs": [],
   "source": [
    "species"
   ]
  },
  {
   "cell_type": "markdown",
   "metadata": {
    "slideshow": {
     "slide_type": "subslide"
    }
   },
   "source": [
    "We'll make a reset button to reset all these widgets. "
   ]
  },
  {
   "cell_type": "code",
   "execution_count": null,
   "metadata": {
    "scrolled": false,
    "slideshow": {
     "slide_type": "fragment"
    }
   },
   "outputs": [],
   "source": [
    "def reset(arg=None):\n",
    "    day_stream.update(value=1)\n",
    "    species_stream.update(value=[])\n",
    "    toggle_stream.update(active=True)\n",
    "    \n",
    "reset_button = pn.widgets.Button(name='Reset')\n",
    "reset_button.param.watch(reset, 'clicks')\n",
    "reset_button"
   ]
  },
  {
   "cell_type": "markdown",
   "metadata": {
    "slideshow": {
     "slide_type": "notes"
    }
   },
   "source": [
    "**NOTE:** Click the button and then go back and look at the \"sanity_checker\""
   ]
  },
  {
   "cell_type": "markdown",
   "metadata": {
    "slideshow": {
     "slide_type": "slide"
    }
   },
   "source": [
    "### Constructing pieces\n",
    "\n",
    "We'll start by setting up a map of bird locations grouped by day of year. This plot is the same as we've set up in prior notebooks."
   ]
  },
  {
   "cell_type": "code",
   "execution_count": null,
   "metadata": {
    "scrolled": false,
    "slideshow": {
     "slide_type": "fragment"
    }
   },
   "outputs": [],
   "source": [
    "birds = df.hvplot.points('lon', 'lat', color='species', groupby='day', geo=True,\n",
    "                         cmap=species_cmap, legend=False).options(tools=['tap', 'hover', 'box_select'], \n",
    "                                                                  width=500, height=600)"
   ]
  },
  {
   "cell_type": "code",
   "execution_count": null,
   "metadata": {
    "scrolled": false,
    "slideshow": {
     "slide_type": "fragment"
    }
   },
   "outputs": [],
   "source": [
    "tiles = gts.EsriImagery()\n",
    "tiles.extents = df.lon.min(), df.lat.min(), df.lon.max(), df.lat.max()"
   ]
  },
  {
   "cell_type": "code",
   "execution_count": null,
   "metadata": {
    "scrolled": false,
    "slideshow": {
     "slide_type": "subslide"
    }
   },
   "outputs": [],
   "source": [
    "birds * tiles"
   ]
  },
  {
   "cell_type": "markdown",
   "metadata": {
    "slideshow": {
     "slide_type": "fragment"
    }
   },
   "source": [
    "Now we can take the player widget that we've defined above and use that one instead of the slider. "
   ]
  },
  {
   "cell_type": "code",
   "execution_count": null,
   "metadata": {
    "scrolled": false,
    "slideshow": {
     "slide_type": "subslide"
    }
   },
   "outputs": [],
   "source": [
    "bird_dmap = birds.clone(streams=[day_stream])\n",
    "row = pn.Row(bird_dmap * tiles, day)\n",
    "row"
   ]
  },
  {
   "cell_type": "markdown",
   "metadata": {
    "slideshow": {
     "slide_type": "fragment"
    }
   },
   "source": [
    "That doesn't look quite how we want it. So we can inspect the structure of the panel object."
   ]
  },
  {
   "cell_type": "code",
   "execution_count": null,
   "metadata": {
    "scrolled": false,
    "slideshow": {
     "slide_type": "subslide"
    }
   },
   "outputs": [],
   "source": [
    "print(row)"
   ]
  },
  {
   "cell_type": "markdown",
   "metadata": {
    "slideshow": {
     "slide_type": "fragment"
    }
   },
   "source": [
    "Each of the items has an index, so we can access the components individually. Note that the components are still linked (try wiggling the slider)."
   ]
  },
  {
   "cell_type": "code",
   "execution_count": null,
   "metadata": {
    "scrolled": false,
    "slideshow": {
     "slide_type": "subslide"
    }
   },
   "outputs": [],
   "source": [
    "row[0][1]"
   ]
  },
  {
   "cell_type": "code",
   "execution_count": null,
   "metadata": {
    "scrolled": false,
    "slideshow": {
     "slide_type": "fragment"
    }
   },
   "outputs": [],
   "source": [
    "pn.Row(row[0][0], row[1])"
   ]
  },
  {
   "cell_type": "markdown",
   "metadata": {
    "slideshow": {
     "slide_type": "slide"
    }
   },
   "source": [
    "### Adding another layer\n",
    "\n",
    "Let's add the temperature data now. To speed things up we can subset the air temperature layer to the region of interest, and then persist that in memory."
   ]
  },
  {
   "cell_type": "code",
   "execution_count": null,
   "metadata": {
    "scrolled": false,
    "slideshow": {
     "slide_type": "fragment"
    }
   },
   "outputs": [],
   "source": [
    "extents = df.lon.min(), df.lon.max(), df.lat.min(), df.lat.max()\n",
    "extents"
   ]
  },
  {
   "cell_type": "code",
   "execution_count": null,
   "metadata": {
    "scrolled": false,
    "slideshow": {
     "slide_type": "fragment"
    }
   },
   "outputs": [],
   "source": [
    "360+extents[0], 360+extents[1]"
   ]
  },
  {
   "cell_type": "markdown",
   "metadata": {
    "slideshow": {
     "slide_type": "fragment"
    }
   },
   "source": [
    "One tricky thing is figuring out the right order for the slices. We'll do it by inspection, but there is probably a more clever way."
   ]
  },
  {
   "cell_type": "code",
   "execution_count": null,
   "metadata": {
    "scrolled": false,
    "slideshow": {
     "slide_type": "subslide"
    }
   },
   "outputs": [],
   "source": [
    "ROI = ds.sel(lon=slice(205, 310), lat=slice(75, -55)).persist()\n",
    "ROI"
   ]
  },
  {
   "cell_type": "code",
   "execution_count": null,
   "metadata": {
    "scrolled": false,
    "slideshow": {
     "slide_type": "subslide"
    }
   },
   "outputs": [],
   "source": [
    "p = ROI.hvplot.quadmesh('lon', 'lat', 'air_F', groupby='day', geo=True)\n",
    "display(p)"
   ]
  },
  {
   "cell_type": "markdown",
   "metadata": {
    "slideshow": {
     "slide_type": "subslide"
    }
   },
   "source": [
    "You'll notice that as you slide around the days, the colorbar hops around to accommodate the range of cell values. We can fix that by taking a look at the min and max and using those values to set the allowable range for air temperature."
   ]
  },
  {
   "cell_type": "code",
   "execution_count": null,
   "metadata": {
    "scrolled": false,
    "slideshow": {
     "slide_type": "fragment"
    }
   },
   "outputs": [],
   "source": [
    "ds.air_F.min().item(), ds.air_F.max().item()"
   ]
  },
  {
   "cell_type": "markdown",
   "metadata": {
    "slideshow": {
     "slide_type": "fragment"
    }
   },
   "source": [
    "So we'll do some plot tweaking and then clone the air plot to accept the day_stream as we did above for birds:"
   ]
  },
  {
   "cell_type": "code",
   "execution_count": null,
   "metadata": {
    "scrolled": false,
    "slideshow": {
     "slide_type": "fragment"
    }
   },
   "outputs": [],
   "source": [
    "grouped_air = p.options(height=600, width=500, tools=[]).redim.range(air_F=(-20, 100))\n",
    "air_dmap = grouped_air.clone(streams=[day_stream])"
   ]
  },
  {
   "cell_type": "markdown",
   "metadata": {
    "slideshow": {
     "slide_type": "fragment"
    }
   },
   "source": [
    "The last step for the temperature layer is to add in the toggle. For that we'll create a function that accept the dynamic map and the active stream from the toggle. Then we'll create a new dynamic map that wraps our air_dmap. "
   ]
  },
  {
   "cell_type": "code",
   "execution_count": null,
   "metadata": {
    "scrolled": false,
    "slideshow": {
     "slide_type": "subslide"
    }
   },
   "outputs": [],
   "source": [
    "def toggle_temp(layer, active=True):\n",
    "    return layer.options(fill_alpha=int(active))\n",
    "\n",
    "temp_layer = hv.util.Dynamic(air_dmap, operation=toggle_temp, streams=[toggle_stream])\n",
    "\n",
    "row = pn.Row(pn.widgets.WidgetBox(toggle, day, width=450), pn.Row(tiles * temp_layer * gv.feature.coastline * bird_dmap)[0][0])\n",
    "row"
   ]
  },
  {
   "cell_type": "code",
   "execution_count": null,
   "metadata": {
    "scrolled": false,
    "slideshow": {
     "slide_type": "subslide"
    }
   },
   "outputs": [],
   "source": [
    "print(row)"
   ]
  },
  {
   "cell_type": "markdown",
   "metadata": {
    "slideshow": {
     "slide_type": "slide"
    }
   },
   "source": [
    "### Doing a little more computation\n",
    "One of the things that we'd like to display on our dashboard is bird speed. We can calculate the speed for each bird for each day using `pyproj`."
   ]
  },
  {
   "cell_type": "code",
   "execution_count": null,
   "metadata": {
    "scrolled": false,
    "slideshow": {
     "slide_type": "fragment"
    }
   },
   "outputs": [],
   "source": [
    "import pyproj\n",
    "import numpy as np\n",
    "\n",
    "g = pyproj.Geod(ellps='WGS84')\n",
    "\n",
    "def calculate_speed(v):\n",
    "    today_lat = v['lat'].values\n",
    "    today_lon = v['lon'].values\n",
    "    tomorrow_lat = np.append(v['lat'][1:].values, v['lat'][0])\n",
    "    tomorrow_lon = np.append(v['lon'][1:].values, v['lon'][0])\n",
    "    _, _, dist = g.inv(today_lon, today_lat, tomorrow_lon, tomorrow_lat)\n",
    "    return v.assign(speed=dist/1000.)\n",
    "\n",
    "df = pd.concat([calculate_speed(v) for k, v in df.groupby('species')])\n",
    "df.head()"
   ]
  },
  {
   "cell_type": "markdown",
   "metadata": {
    "slideshow": {
     "slide_type": "slide"
    }
   },
   "source": [
    "### Defining functions\n",
    "\n",
    "A more common way to link streams with plots is using a function that accepts some values from streams as input and returns some holoviews object. Here we will define a function that plots lat vs day for all species or a select list of species depending on the input. If a day is provided, then the function adds a vertical line."
   ]
  },
  {
   "cell_type": "code",
   "execution_count": null,
   "metadata": {
    "scrolled": false,
    "slideshow": {
     "slide_type": "fragment"
    }
   },
   "outputs": [],
   "source": [
    "def timeseries(species=None, day=None, y='lat'):\n",
    "    plots = [\n",
    "        (df.groupby(['day', 'species'], observed=True)[y]\n",
    "            .mean()\n",
    "            .groupby('day').agg([np.min, np.max])\n",
    "            .hvplot.area('day', 'amin', 'amax', alpha=0.2, fields={'amin': y}))]\n",
    "    if not species:\n",
    "        plots.append(df.groupby('day')[y].mean().hvplot().relabel('mean'))\n",
    "    else:\n",
    "        gb = df[df.species.isin(species)].groupby('species', observed=True)\n",
    "        plots.extend([v.hvplot('day', y, color=species_cmap[k]).relabel(k) for k, v in gb])\n",
    "    if day:\n",
    "        plots.append(hv.VLine(day).options(color='black'))\n",
    "    return hv.Overlay(plots).options(width=900, height=250, toolbar='below', legend_position='right', legend_offset=(20, 0), label_width=150)"
   ]
  },
  {
   "cell_type": "code",
   "execution_count": null,
   "metadata": {
    "scrolled": false,
    "slideshow": {
     "slide_type": "subslide"
    }
   },
   "outputs": [],
   "source": [
    "timeseries()"
   ]
  },
  {
   "cell_type": "code",
   "execution_count": null,
   "metadata": {
    "scrolled": false,
    "slideshow": {
     "slide_type": "fragment"
    }
   },
   "outputs": [],
   "source": [
    "timeseries(['Veery', 'Connecticut_Warbler'], 10, 'speed')"
   ]
  },
  {
   "cell_type": "markdown",
   "metadata": {
    "slideshow": {
     "slide_type": "fragment"
    }
   },
   "source": [
    "Now that we have a sense of how the function works, we can set up a `holoviews.DynamicMap` with species and day as the streams and our function as the callable. "
   ]
  },
  {
   "cell_type": "code",
   "execution_count": null,
   "metadata": {
    "scrolled": true,
    "slideshow": {
     "slide_type": "subslide"
    }
   },
   "outputs": [],
   "source": [
    "ts_lat = hv.DynamicMap(lambda species, day: timeseries(species, day, 'lat'), streams=[species_stream, day_stream])\n",
    "ts_speed = hv.DynamicMap(lambda species, day: timeseries(species, day, 'speed'), streams=[species_stream, day_stream])\n",
    "\n",
    "col = pn.Column('**Species**', species, '**Day of Year**', day, ts_speed, ts_lat)\n",
    "col"
   ]
  },
  {
   "cell_type": "code",
   "execution_count": null,
   "metadata": {
    "scrolled": false,
    "slideshow": {
     "slide_type": "subslide"
    }
   },
   "outputs": [],
   "source": [
    "print(col)"
   ]
  },
  {
   "cell_type": "markdown",
   "metadata": {
    "slideshow": {
     "slide_type": "slide"
    }
   },
   "source": [
    "### Setting up the Table\n",
    "\n",
    "We can get the air temp for a particular bird by selecting the `nearest` grid cell."
   ]
  },
  {
   "cell_type": "code",
   "execution_count": null,
   "metadata": {
    "scrolled": false,
    "slideshow": {
     "slide_type": "fragment"
    }
   },
   "outputs": [],
   "source": [
    "def temp_calc(ds, row):\n",
    "    lat_lon_day = row[['lat', 'lon', 'day']]\n",
    "    return round(ds.sel(**lat_lon_day, method='nearest')['air_F'].item())"
   ]
  },
  {
   "cell_type": "code",
   "execution_count": null,
   "metadata": {
    "scrolled": false,
    "slideshow": {
     "slide_type": "fragment"
    }
   },
   "outputs": [],
   "source": [
    "temp_calc(ds, df.iloc[100])"
   ]
  },
  {
   "cell_type": "markdown",
   "metadata": {
    "slideshow": {
     "slide_type": "fragment"
    }
   },
   "source": [
    "Now we can set up a `holoviews.Table` element to report back the temperature. This function has a similar structure to the one above for calculating timeseries. "
   ]
  },
  {
   "cell_type": "code",
   "execution_count": null,
   "metadata": {
    "scrolled": false,
    "slideshow": {
     "slide_type": "subslide"
    }
   },
   "outputs": [],
   "source": [
    "def daily_table(species=None, day=None):\n",
    "    if not species or not day:\n",
    "        return hv.Table(pd.DataFrame(columns=['Species', 'Air [F]', 'Speed [km/day]'])).relabel('No species selected')\n",
    "    \n",
    "    subset = df[df.species.isin(species)]\n",
    "    subset = subset[subset.day==day]\n",
    "    temps = [temp_calc(ds, row) for _, row in subset.iterrows()]\n",
    "    \n",
    "    return hv.Table(pd.DataFrame({'Species': species, 'Air [F]': temps, 'Speed [km/day]': subset['speed']})).relabel('day: {}'.format(day))"
   ]
  },
  {
   "cell_type": "code",
   "execution_count": null,
   "metadata": {
    "scrolled": false,
    "slideshow": {
     "slide_type": "fragment"
    }
   },
   "outputs": [],
   "source": [
    "daily_table().options(height=100)"
   ]
  },
  {
   "cell_type": "code",
   "execution_count": null,
   "metadata": {
    "scrolled": false,
    "slideshow": {
     "slide_type": "fragment"
    }
   },
   "outputs": [],
   "source": [
    "daily_table(['Veery'],5).options(height=100)"
   ]
  },
  {
   "cell_type": "code",
   "execution_count": null,
   "metadata": {
    "scrolled": false,
    "slideshow": {
     "slide_type": "fragment"
    }
   },
   "outputs": [],
   "source": [
    "table = hv.DynamicMap(daily_table, streams=[species_stream, day_stream])"
   ]
  },
  {
   "cell_type": "markdown",
   "metadata": {
    "slideshow": {
     "slide_type": "slide"
    }
   },
   "source": [
    "### Hook up the map selector to the MultiSelect\n",
    "\n",
    "The goal is to make it so that if you change the species selected on the map, then it will update species_stream. This will trigger the all the DynamicMaps that depend on species_stream to change as well."
   ]
  },
  {
   "cell_type": "code",
   "execution_count": null,
   "metadata": {
    "scrolled": false,
    "slideshow": {
     "slide_type": "fragment"
    }
   },
   "outputs": [],
   "source": [
    "def on_map_select(index):\n",
    "    if index:\n",
    "        species = df.species.cat.categories[index].tolist()\n",
    "        if set(species_stream.contents['species']) != set(species):\n",
    "            species_stream.update(value=species)\n",
    "        \n",
    "map_selected_stream = Selection1D(source=bird_dmap)\n",
    "map_selected_stream.param.watch_values(on_map_select, ['index']);"
   ]
  },
  {
   "cell_type": "markdown",
   "metadata": {
    "slideshow": {
     "slide_type": "slide"
    }
   },
   "source": [
    "## Putting the pieces together"
   ]
  },
  {
   "cell_type": "code",
   "execution_count": null,
   "metadata": {
    "scrolled": false,
    "slideshow": {
     "slide_type": "subslide"
    }
   },
   "outputs": [],
   "source": [
    "dashboard = pn.Column(\n",
    "    pn.Row('## Bird Migration Dashboard', pn.Spacer(width=200, height=80)),\n",
    "    pn.Row(\n",
    "        pn.Column(\n",
    "            pn.Row(\n",
    "                pn.Row(tiles * temp_layer * gv.feature.coastline * bird_dmap)[0][0], \n",
    "                pn.Spacer(width=20),\n",
    "                pn.Column(\n",
    "                    '**Day of Year**', day, \n",
    "                    '**Species**:',\n",
    "                     'This selector does not affect the map. Use plot selectors.', species, \n",
    "                    '**Toggle Air Temp on and off**', toggle,\n",
    "                    'This reset button only resets widgets - otherwise use the plot reset 🔄',\n",
    "                    reset_button\n",
    "                ),\n",
    "                pn.Spacer(width=120),\n",
    "            ),\n",
    "            pn.Row(pn.layout.Tabs(('Latitude', ts_lat), ('Speed', ts_speed))),\n",
    "        ),\n",
    "        pn.Column(table.options(width=300, height=900))\n",
    "    )\n",
    ")"
   ]
  },
  {
   "cell_type": "code",
   "execution_count": null,
   "metadata": {
    "scrolled": false,
    "slideshow": {
     "slide_type": "subslide"
    }
   },
   "outputs": [],
   "source": [
    "dashboard.servable()"
   ]
  },
  {
   "cell_type": "code",
   "execution_count": null,
   "metadata": {
    "scrolled": false,
    "slideshow": {
     "slide_type": "subslide"
    }
   },
   "outputs": [],
   "source": [
    "print(dashboard)"
   ]
  },
  {
   "cell_type": "markdown",
   "metadata": {
    "slideshow": {
     "slide_type": "fragment"
    }
   },
   "source": [
    "Deploy this dashboard from the CLI using:\n",
    "\n",
    "```\n",
    "$ panel serve 04_panel.ipynb\n",
    "```"
   ]
  }
 ],
 "metadata": {
  "kernelspec": {
   "display_name": "Python 3",
   "language": "python",
   "name": "python3"
  },
  "language_info": {
   "codemirror_mode": {
    "name": "ipython",
    "version": 3
   },
   "file_extension": ".py",
   "mimetype": "text/x-python",
   "name": "python",
   "nbconvert_exporter": "python",
   "pygments_lexer": "ipython3",
   "version": "3.6.6"
  }
 },
 "nbformat": 4,
 "nbformat_minor": 2
}
