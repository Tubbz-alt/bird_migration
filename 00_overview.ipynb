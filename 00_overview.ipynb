{
 "cells": [
  {
   "cell_type": "markdown",
   "metadata": {},
   "source": [
    "### What we want out of visualizations:"
   ]
  },
  {
   "cell_type": "markdown",
   "metadata": {},
   "source": [
    "Explore:\n",
    "  - see patterns in data\n",
    "  - identify bad data\n",
    "  - develop intuition"
   ]
  },
  {
   "cell_type": "markdown",
   "metadata": {},
   "source": [
    "Present:\n",
    "  - show your data to other people\n",
    "  - tell a story"
   ]
  },
  {
   "cell_type": "markdown",
   "metadata": {},
   "source": [
    "### What we want out of visualization tools:"
   ]
  },
  {
   "cell_type": "markdown",
   "metadata": {},
   "source": [
    "Interactivity:\n",
    " - zoom in to areas of interest\n",
    " - re-render on user input\n",
    " - draw on plots"
   ]
  },
  {
   "cell_type": "markdown",
   "metadata": {},
   "source": [
    "Reproducibility:\n",
    "  - look at the same data again in a year\n",
    "  - look at a new/different data"
   ]
  },
  {
   "cell_type": "markdown",
   "metadata": {},
   "source": [
    "Sharability:\n",
    " - deploy a dashboard\n",
    " - share a notebook with environment specification"
   ]
  },
  {
   "cell_type": "markdown",
   "metadata": {},
   "source": [
    "![Shortcuts not dead ends](./assets/shortcuts_not_deadends.png)"
   ]
  },
  {
   "cell_type": "markdown",
   "metadata": {},
   "source": [
    "## Introduction to the dataset:\n",
    "\n",
    "In these notebooks we'll be looking at bird data that was collected by citizen scientists and cleaned and compiled by scientists. This data tracks the migratory patterns of various bird species with time. \n",
    "\n",
    "\n",
    "La Sorte FA, Fink D, Hochachka WM, Kelling S. 2016 \"Convergence of broad-scale migration strategies in terrestrial birds\". Proc. R. Soc. B 283: 20152588. http://dx.doi.org/10.1098/rspb.2015.2588\n",
    "\n",
    "La Sorte FA, and Fink D. 2017 “Projected changes in prevailing winds for transatlantic migratory birds under global warming”. Journal of American Ecology 2017.86: 273-284. doi: 10.1111/1365-2656.12624"
   ]
  },
  {
   "cell_type": "markdown",
   "metadata": {},
   "source": [
    "## Import the data\n",
    "\n",
    "The data are organized in the csv files where each file contains the data for one species and the file is named according to the species. \n",
    "\n",
    "```\n",
    "data\n",
    "└── bird_migration\n",
    "    ├── Acadian_Flycatcher.csv\n",
    "    ├── Alder_Flycatcher.csv\n",
    "    ├── American_Golden-Plover.csv\n",
    "    ├── American_Redstart.csv\n",
    "    ├── Baird_s_Sandpiper.csv\n",
    "    ├── Baird_s_Sparrow.csv\n",
    "    ├── Baltimore_Oriole.csv\n",
    "    ├── Bay-breasted_Warbler.csv\n",
    "    ...\n",
    "```\n",
    "\n",
    "For this task we can use [Intake](https://intake.readthedocs.io/) to read in all the files and concatenate."
   ]
  },
  {
   "cell_type": "code",
   "execution_count": null,
   "metadata": {},
   "outputs": [],
   "source": [
    "import intake\n",
    "\n",
    "birds = intake.open_csv('./data/bird_migration/{species}.csv')\n",
    "\n",
    "df = birds.read()\n",
    "df.head()"
   ]
  },
  {
   "cell_type": "markdown",
   "metadata": {},
   "source": [
    "We can take a closer look at the species column:"
   ]
  },
  {
   "cell_type": "code",
   "execution_count": null,
   "metadata": {},
   "outputs": [],
   "source": [
    "df.species.describe()"
   ]
  },
  {
   "cell_type": "markdown",
   "metadata": {},
   "source": [
    "## Dashboard\n",
    "\n",
    "We are going to be working towards a dashboard that looks something like this:\n",
    "\n",
    "<img src=\"./assets/target_dashboard.jpg\" width=40%></img>"
   ]
  },
  {
   "cell_type": "markdown",
   "metadata": {},
   "source": [
    "[Next section](./01_hvplot.ipynb)"
   ]
  }
 ],
 "metadata": {
  "language_info": {
   "name": "python",
   "pygments_lexer": "ipython3"
  }
 },
 "nbformat": 4,
 "nbformat_minor": 2
}
