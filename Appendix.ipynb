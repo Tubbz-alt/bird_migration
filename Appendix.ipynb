{
 "cells": [
  {
   "cell_type": "markdown",
   "metadata": {},
   "source": [
    "## Intake + HvPlot\n",
    "\n",
    "Intake provides a plotting API (using `hvplot`) that allows for specifying plots in the `catalog.yml`. The catalog looks like:\n",
    "\n",
    "```yaml\n",
    "sources:\n",
    "  bird_migration:\n",
    "    description: \"This dataset is a cleaned composite of citizen science bird observations as described by La Sorte and Fink (2017). The eBird Citizen Science Project is a real-time, on line checklist program launched in 2002 by the Cornell Lab of Ornithology and the National Audubon Society. The observations of each volunteer participant join those of others creating a database of international avian observation events. The dataset contains count data for bird species observed by novice and experienced bird observers alike. Aggregated observation data is available for non-commercial research purposes. eBird data can be used to document the presence or absence of avian species, as well as abundance and distribution at a variety of spatial and temporal scales. The dataset includes spatial, and temporal parameters describing the observation event. The data collection is static, updated annually. La Sorte FA, and Fink D. Projected changes in prevailing winds for transatlantic migratory birds under global warming. Journal of American Ecology 86 (2017): 273-284. La Sorte FA, Fink D, Hochachka WM, Kelling S. 2016 Convergence of broad-scale migration strategies in terrestrial birds. Proc. R. Soc. B 283: 20152588. http://dx.doi.org/10.1098/rspb.2015.2588\"\n",
    "    driver: csv\n",
    "    args:\n",
    "      urlpath: '{{ CATALOG_DIR }}/data/bird_migration/*.csv'\n",
    "      path_as_pattern: 'bird_migration/{species}.csv'\n",
    "    metadata:\n",
    "      plot:\n",
    "        kind: points\n",
    "        height: 500\n",
    "        width: 400\n",
    "        x: lon\n",
    "        y: lat\n",
    "      plots:\n",
    "        one_bird_point:\n",
    "          groupby:\n",
    "            - species\n",
    "            - day\n",
    "          c: yellow\n",
    "          geo: true\n",
    "        day_colored_points:\n",
    "          groupby: species\n",
    "          c: day\n",
    "          cmap: colorwheel\n",
    "          geo: true\n",
    "        bird_colored_points:\n",
    "          groupby: day\n",
    "          c: species\n",
    "          cmap: 'YlOrRd'\n",
    "          legend: False\n",
    "          geo: true\n",
    "```"
   ]
  },
  {
   "cell_type": "code",
   "execution_count": null,
   "metadata": {},
   "outputs": [],
   "source": [
    "import intake\n",
    "import geoviews.tile_sources as gts\n",
    "\n",
    "intake.output_notebook()"
   ]
  },
  {
   "cell_type": "markdown",
   "metadata": {},
   "source": [
    "We'll open the catalog and read in the bird migration data source, then we can call the plots defined in the catalog:"
   ]
  },
  {
   "cell_type": "code",
   "execution_count": null,
   "metadata": {},
   "outputs": [],
   "source": [
    "cat = intake.open_catalog('./catalog.yaml')\n",
    "birds = cat.bird_migration()"
   ]
  },
  {
   "cell_type": "code",
   "execution_count": null,
   "metadata": {
    "scrolled": false
   },
   "outputs": [],
   "source": [
    "birds.plot.day_colored_points()"
   ]
  },
  {
   "cell_type": "markdown",
   "metadata": {},
   "source": [
    "We can add tiles under the points just as we did in the other notebooks."
   ]
  },
  {
   "cell_type": "code",
   "execution_count": null,
   "metadata": {},
   "outputs": [],
   "source": [
    "tiles = gts.EsriImagery()\n",
    "tiles.extents = -160, -60, -40, 80"
   ]
  },
  {
   "cell_type": "code",
   "execution_count": null,
   "metadata": {},
   "outputs": [],
   "source": [
    "%%output holomap='scrubber' \n",
    "\n",
    "birds.plot.bird_colored_points() * tiles"
   ]
  },
  {
   "cell_type": "code",
   "execution_count": null,
   "metadata": {},
   "outputs": [],
   "source": [
    "tiles * birds.plot.one_bird_point()"
   ]
  }
 ],
 "metadata": {
  "kernelspec": {
   "display_name": "Python 3",
   "language": "python",
   "name": "python3"
  },
  "language_info": {
   "codemirror_mode": {
    "name": "ipython",
    "version": 3
   },
   "file_extension": ".py",
   "mimetype": "text/x-python",
   "name": "python",
   "nbconvert_exporter": "python",
   "pygments_lexer": "ipython3",
   "version": "3.6.6"
  }
 },
 "nbformat": 4,
 "nbformat_minor": 2
}
