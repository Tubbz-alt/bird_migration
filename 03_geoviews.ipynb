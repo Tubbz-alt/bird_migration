{
 "cells": [
  {
   "cell_type": "code",
   "execution_count": null,
   "metadata": {
    "slideshow": {
     "slide_type": "skip"
    }
   },
   "outputs": [],
   "source": [
    "import intake\n",
    "import pandas as pd\n",
    "\n",
    "df = intake.open_csv('./data/bird_migration/{species}.csv').read()\n",
    "\n",
    "def fill_day(v):\n",
    "    next_year = v.assign(day=v.day + v.day.max())\n",
    "    last_year = v.assign(day=v.day - v.day.max())\n",
    "    surrounding_years = pd.concat([last_year, v, next_year])\n",
    "    filled = surrounding_years.assign(\n",
    "        lat=surrounding_years.lat.interpolate(), \n",
    "        lon=surrounding_years.lon.interpolate())\n",
    "    this_year = filled[filled.day.isin(v.day)]\n",
    "    return this_year\n",
    "\n",
    "df = pd.concat([fill_day(v) for k, v in df.groupby('species')])\n",
    "\n",
    "colors = pd.read_csv('./assets/colormap.csv', header=None, names=['R', 'G', 'B'])\n",
    "species_cmap = dict(zip(df.species.cat.categories, \n",
    "                        ['#{row.R:02x}{row.G:02x}{row.B:02x}'.format(row=row) \n",
    "                         for _, row in colors.iterrows()]))"
   ]
  },
  {
   "cell_type": "markdown",
   "metadata": {
    "slideshow": {
     "slide_type": "slide"
    }
   },
   "source": [
    "## Geoviews\n",
    "\n",
    "`geoviews` is the geographic equivalent of `holoviews` but with some added metadata for geographic information. "
   ]
  },
  {
   "cell_type": "code",
   "execution_count": null,
   "metadata": {
    "slideshow": {
     "slide_type": "fragment"
    }
   },
   "outputs": [],
   "source": [
    "import holoviews as hv\n",
    "import geoviews as gv\n",
    "\n",
    "import geoviews.tile_sources as gts\n",
    "import cartopy.crs as ccrs\n",
    "hv.extension('bokeh')"
   ]
  },
  {
   "cell_type": "markdown",
   "metadata": {
    "slideshow": {
     "slide_type": "subslide"
    }
   },
   "source": [
    "One of the most important extra bits of information is the *Coordinate Reference System*. This is how we can set up a `geoviews.Dataset` of our data."
   ]
  },
  {
   "cell_type": "code",
   "execution_count": null,
   "metadata": {
    "slideshow": {
     "slide_type": "fragment"
    }
   },
   "outputs": [],
   "source": [
    "bird_ds = gv.Dataset(df, kdims=['lon', 'lat'], vdims=['day', 'species'], crs=ccrs.PlateCarree())\n",
    "bird_ds"
   ]
  },
  {
   "cell_type": "markdown",
   "metadata": {
    "slideshow": {
     "slide_type": "slide"
    }
   },
   "source": [
    "### Visualizing data"
   ]
  },
  {
   "cell_type": "code",
   "execution_count": null,
   "metadata": {
    "slideshow": {
     "slide_type": "subslide"
    }
   },
   "outputs": [],
   "source": [
    "%%opts Points [color_index='day' height=500 width=400 show_legend=False] (size=1, cmap='colorwheel')\n",
    "\n",
    "p = bird_ds.to(gv.Points)\n",
    "p * gv.feature.coastline"
   ]
  },
  {
   "cell_type": "code",
   "execution_count": null,
   "metadata": {
    "slideshow": {
     "slide_type": "fragment"
    }
   },
   "outputs": [],
   "source": [
    "print(p)"
   ]
  },
  {
   "cell_type": "markdown",
   "metadata": {
    "slideshow": {
     "slide_type": "slide"
    }
   },
   "source": [
    "### Grouping\n",
    "\n",
    "We can group the data in the same way that we did for `holoviews`. To save time we can set `dynamic=True` to render on the fly."
   ]
  },
  {
   "cell_type": "code",
   "execution_count": null,
   "metadata": {
    "slideshow": {
     "slide_type": "fragment"
    }
   },
   "outputs": [],
   "source": [
    "grouped_birds = p.groupby('day', dynamic=True)\n",
    "print(grouped_birds)"
   ]
  },
  {
   "cell_type": "code",
   "execution_count": null,
   "metadata": {
    "slideshow": {
     "slide_type": "subslide"
    }
   },
   "outputs": [],
   "source": [
    "%%opts Points [color_index='species' height=500 width=400 show_legend=False, tools=['hover', 'tap', 'box_select']] \n",
    "%%opts Points (cmap=species_cmap size=5)\n",
    "\n",
    "grouped_birds * gv.feature.coastline"
   ]
  },
  {
   "cell_type": "markdown",
   "metadata": {
    "slideshow": {
     "slide_type": "fragment"
    }
   },
   "source": [
    "Hmmm but that is out of bounds. We can't set boundaries on coastlines so let's put that over tiles instead."
   ]
  },
  {
   "cell_type": "code",
   "execution_count": null,
   "metadata": {
    "slideshow": {
     "slide_type": "subslide"
    }
   },
   "outputs": [],
   "source": [
    "tiles = gts.EsriImagery()\n",
    "tiles.extents = df.lon.min(), df.lat.min(), df.lon.max(), df.lat.max()"
   ]
  },
  {
   "cell_type": "code",
   "execution_count": null,
   "metadata": {
    "slideshow": {
     "slide_type": "fragment"
    }
   },
   "outputs": [],
   "source": [
    "styled_birds = grouped_birds.options(color_index='species', height=500, width=400, \n",
    "                                     show_legend=False, tools=['hover', 'tap', 'box_select'], \n",
    "                                     cmap=species_cmap, size=5)"
   ]
  },
  {
   "cell_type": "code",
   "execution_count": null,
   "metadata": {
    "slideshow": {
     "slide_type": "fragment"
    }
   },
   "outputs": [],
   "source": [
    "tiles * styled_birds"
   ]
  },
  {
   "cell_type": "markdown",
   "metadata": {
    "slideshow": {
     "slide_type": "slide"
    }
   },
   "source": [
    "### Equivalent in hvplot\n",
    "\n",
    "It is straightforward to use geoviews with `hvplot` as well. All we need is to set the `geo` kwarg to `True`."
   ]
  },
  {
   "cell_type": "code",
   "execution_count": null,
   "metadata": {
    "slideshow": {
     "slide_type": "fragment"
    }
   },
   "outputs": [],
   "source": [
    "import hvplot.pandas"
   ]
  },
  {
   "cell_type": "code",
   "execution_count": null,
   "metadata": {
    "slideshow": {
     "slide_type": "subslide"
    }
   },
   "outputs": [],
   "source": [
    "df.hvplot.points(x='lon', y='lat', groupby='day', color='species', \n",
    "                 cmap=species_cmap, legend=False, geo=True,\n",
    "                 height=700, width=600).options(tools=['hover', 'tap', 'box_select']) * tiles"
   ]
  },
  {
   "cell_type": "markdown",
   "metadata": {
    "slideshow": {
     "slide_type": "slide"
    }
   },
   "source": [
    "## Adding another layer\n",
    "\n",
    "Now let's put it over our air temperature data. We'll set it up the same way as before, but we'll include `geo=True` in the arguments."
   ]
  },
  {
   "cell_type": "code",
   "execution_count": null,
   "metadata": {
    "slideshow": {
     "slide_type": "fragment"
    }
   },
   "outputs": [],
   "source": [
    "import xarray as xr\n",
    "import hvplot.xarray\n",
    "\n",
    "data_url = 'http://www.esrl.noaa.gov/psd/thredds/dodsC/Datasets/ncep/air.day.ltm.nc'\n",
    "\n",
    "# I downloaded the file locally because I was hitting rate limits. Just comment out this line\n",
    "data_url = './data/air.day.ltm.nc'\n",
    "\n",
    "ds = xr.open_dataset(data_url)\n",
    "ds = ds.rename(time='day').sel(level=1000)\n",
    "ds['day'] = list(range(1,366))"
   ]
  },
  {
   "cell_type": "code",
   "execution_count": null,
   "metadata": {
    "slideshow": {
     "slide_type": "subslide"
    }
   },
   "outputs": [],
   "source": [
    "grouped_air = ds.hvplot('lon', 'lat', groupby='day', geo=True, height=600)\n",
    "grouped_air * styled_birds * gv.feature.coastline"
   ]
  },
  {
   "cell_type": "markdown",
   "metadata": {
    "slideshow": {
     "slide_type": "fragment"
    }
   },
   "source": [
    "[Next Section](./04_panel.ipynb#panel)"
   ]
  }
 ],
 "metadata": {
  "kernelspec": {
   "display_name": "Python 3",
   "language": "python",
   "name": "python3"
  },
  "language_info": {
   "codemirror_mode": {
    "name": "ipython",
    "version": 3
   },
   "file_extension": ".py",
   "mimetype": "text/x-python",
   "name": "python",
   "nbconvert_exporter": "python",
   "pygments_lexer": "ipython3",
   "version": "3.6.6"
  }
 },
 "nbformat": 4,
 "nbformat_minor": 2
}
